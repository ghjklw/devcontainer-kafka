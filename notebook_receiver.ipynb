{
 "cells": [
  {
   "cell_type": "code",
   "execution_count": 1,
   "metadata": {},
   "outputs": [],
   "source": [
    "from devcontainer_kafka.model import Person\n",
    "from devcontainer_kafka.config import Configuration\n",
    "from devcontainer_kafka.consumer import KafkaPydanticConsumer\n",
    "\n",
    "config = Configuration()\n",
    "consumer = KafkaPydanticConsumer[Person](config=config.kafka, model=Person, group_id=\"TestConsumer\")"
   ]
  },
  {
   "cell_type": "code",
   "execution_count": 9,
   "metadata": {},
   "outputs": [
    {
     "data": {
      "text/plain": [
       "{TopicPartition(topic='Person', partition=0): [ConsumerRecord(topic='Person', partition=0, offset=40, timestamp=1697720068545, timestamp_type=0, key=None, value=Person(name='BQNuXlVbhcaeqpaCVyKH', age=-3046304.37153578, height=44.6572758444203, weight=6653871.9082529), headers=[], checksum=None, serialized_key_size=-1, serialized_value_size=106, serialized_header_size=-1)]}"
      ]
     },
     "execution_count": 9,
     "metadata": {},
     "output_type": "execute_result"
    }
   ],
   "source": [
    "consumer._consumer.poll(max_records=1)"
   ]
  },
  {
   "cell_type": "code",
   "execution_count": 6,
   "metadata": {},
   "outputs": [],
   "source": [
    "consumer._consumer.seek_to_end()"
   ]
  }
 ],
 "metadata": {
  "kernelspec": {
   "display_name": ".venv",
   "language": "python",
   "name": "python3"
  },
  "language_info": {
   "codemirror_mode": {
    "name": "ipython",
    "version": 3
   },
   "file_extension": ".py",
   "mimetype": "text/x-python",
   "name": "python",
   "nbconvert_exporter": "python",
   "pygments_lexer": "ipython3",
   "version": "3.11.6"
  }
 },
 "nbformat": 4,
 "nbformat_minor": 2
}
